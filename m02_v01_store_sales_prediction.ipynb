{
 "cells": [
  {
   "cell_type": "markdown",
   "id": "a794ab24",
   "metadata": {},
   "source": [
    "\n",
    "# 0.0. imports\n"
   ]
  },
  {
   "cell_type": "markdown",
   "id": "4e0a8863",
   "metadata": {},
   "source": [
    "## 0.1. Helper functions\n",
    "\n"
   ]
  },
  {
   "cell_type": "markdown",
   "id": "84877905",
   "metadata": {},
   "source": [
    "## 0.2. Loading data\n",
    "\n"
   ]
  },
  {
   "cell_type": "code",
   "execution_count": 30,
   "id": "1433a6ba",
   "metadata": {},
   "outputs": [],
   "source": [
    "import pandas as pd\n",
    "import inflection"
   ]
  },
  {
   "cell_type": "code",
   "execution_count": 20,
   "id": "d56b27c7",
   "metadata": {},
   "outputs": [],
   "source": [
    "df_sales_raw = pd.read_csv('/home/jan/ds_em_producao/data/raw/rossmann-store-sales/train.csv', low_memory=False)\n",
    "df_store_raw = pd.read_csv('/home/jan/ds_em_producao/data/raw/rossmann-store-sales/store.csv', low_memory=False)\n",
    "\n",
    "#merge dos dataframe\n",
    "\n",
    "data_merge = pd.merge(df_sales_raw, df_store_raw, how='left', on='Store')\n"
   ]
  },
  {
   "cell_type": "code",
   "execution_count": 21,
   "id": "d678b453",
   "metadata": {},
   "outputs": [
    {
     "data": {
      "text/html": [
       "<div>\n",
       "<style scoped>\n",
       "    .dataframe tbody tr th:only-of-type {\n",
       "        vertical-align: middle;\n",
       "    }\n",
       "\n",
       "    .dataframe tbody tr th {\n",
       "        vertical-align: top;\n",
       "    }\n",
       "\n",
       "    .dataframe thead th {\n",
       "        text-align: right;\n",
       "    }\n",
       "</style>\n",
       "<table border=\"1\" class=\"dataframe\">\n",
       "  <thead>\n",
       "    <tr style=\"text-align: right;\">\n",
       "      <th></th>\n",
       "      <th>Store</th>\n",
       "      <th>DayOfWeek</th>\n",
       "      <th>Date</th>\n",
       "      <th>Sales</th>\n",
       "      <th>Customers</th>\n",
       "      <th>Open</th>\n",
       "      <th>Promo</th>\n",
       "      <th>StateHoliday</th>\n",
       "      <th>SchoolHoliday</th>\n",
       "      <th>StoreType</th>\n",
       "      <th>Assortment</th>\n",
       "      <th>CompetitionDistance</th>\n",
       "      <th>CompetitionOpenSinceMonth</th>\n",
       "      <th>CompetitionOpenSinceYear</th>\n",
       "      <th>Promo2</th>\n",
       "      <th>Promo2SinceWeek</th>\n",
       "      <th>Promo2SinceYear</th>\n",
       "      <th>PromoInterval</th>\n",
       "    </tr>\n",
       "  </thead>\n",
       "  <tbody>\n",
       "    <tr>\n",
       "      <th>409251</th>\n",
       "      <td>832</td>\n",
       "      <td>1</td>\n",
       "      <td>2014-06-30</td>\n",
       "      <td>9802</td>\n",
       "      <td>684</td>\n",
       "      <td>1</td>\n",
       "      <td>1</td>\n",
       "      <td>0</td>\n",
       "      <td>0</td>\n",
       "      <td>d</td>\n",
       "      <td>a</td>\n",
       "      <td>5070.0</td>\n",
       "      <td>NaN</td>\n",
       "      <td>NaN</td>\n",
       "      <td>1</td>\n",
       "      <td>45.0</td>\n",
       "      <td>2009.0</td>\n",
       "      <td>Feb,May,Aug,Nov</td>\n",
       "    </tr>\n",
       "  </tbody>\n",
       "</table>\n",
       "</div>"
      ],
      "text/plain": [
       "        Store  DayOfWeek        Date  Sales  Customers  Open  Promo  \\\n",
       "409251    832          1  2014-06-30   9802        684     1      1   \n",
       "\n",
       "       StateHoliday  SchoolHoliday StoreType Assortment  CompetitionDistance  \\\n",
       "409251            0              0         d          a               5070.0   \n",
       "\n",
       "        CompetitionOpenSinceMonth  CompetitionOpenSinceYear  Promo2  \\\n",
       "409251                        NaN                       NaN       1   \n",
       "\n",
       "        Promo2SinceWeek  Promo2SinceYear    PromoInterval  \n",
       "409251             45.0           2009.0  Feb,May,Aug,Nov  "
      ]
     },
     "execution_count": 21,
     "metadata": {},
     "output_type": "execute_result"
    }
   ],
   "source": [
    "data_merge.sample()"
   ]
  },
  {
   "cell_type": "markdown",
   "id": "eca3fed7",
   "metadata": {},
   "source": [
    "# 1.0. DESCRIÇÃO DOS DADOS\n",
    "\n"
   ]
  },
  {
   "cell_type": "code",
   "execution_count": 22,
   "metadata": {},
   "outputs": [
    {
     "data": {
      "text/plain": [
       "Index(['Store', 'DayOfWeek', 'Date', 'Sales', 'Customers', 'Open', 'Promo',\n",
       "       'StateHoliday', 'SchoolHoliday', 'StoreType', 'Assortment',\n",
       "       'CompetitionDistance', 'CompetitionOpenSinceMonth',\n",
       "       'CompetitionOpenSinceYear', 'Promo2', 'Promo2SinceWeek',\n",
       "       'Promo2SinceYear', 'PromoInterval'],\n",
       "      dtype='object')"
      ]
     },
     "execution_count": 22,
     "metadata": {},
     "output_type": "execute_result"
    }
   ],
   "source": [
    "df1_copy = data_merge.copy()\n",
    "data_merge.columns"
   ]
  },
  {
   "cell_type": "markdown",
   "id": "468ef55b",
   "metadata": {},
   "source": [
    "## 1.1. renomeando as colunas\n",
    "\n",
    "\n"
   ]
  },
  {
   "cell_type": "code",
   "execution_count": 16,
   "metadata": {},
   "outputs": [],
   "source": [
    "colunas = ['Store', 'DayOfWeek', 'Date', 'Sales', 'Customers', 'Open', 'Promo',\n",
    "        'StateHoliday', 'SchoolHoliday', 'StoreType', 'Assortment',\n",
    "        'CompetitionDistance', 'CompetitionOpenSinceMonth',\n",
    "       'CompetitionOpenSinceYear', 'Promo2', 'Promo2SinceWeek',\n",
    "       'Promo2SinceYear', 'PromoInterval']\n",
    "\n",
    "snakecase = lambda x: inflection.underscore(x)\n",
    "cols_new  = list(map(snakecase, colunas))\n",
    "\n",
    "#renomeando as colunas \n",
    "\n",
    "df1_copy.columns = cols_new\n",
    "\n",
    "\n",
    "\n"
   ]
  },
  {
   "cell_type": "markdown",
   "id": "7c852136",
   "metadata": {},
   "source": [
    "## 1.2. data dimensions\n"
   ]
  },
  {
   "cell_type": "code",
   "execution_count": 23,
   "metadata": {},
   "outputs": [
    {
     "name": "stdout",
     "output_type": "stream",
     "text": [
      "Number of rows 1017209\n",
      "Number of cols 18\n"
     ]
    }
   ],
   "source": [
    "print(f'Number of rows {df1_copy.shape[0]}')\n",
    "print(f'Number of cols {df1_copy.shape[1]}')"
   ]
  },
  {
   "cell_type": "code",
   "execution_count": 26,
   "metadata": {},
   "outputs": [
    {
     "data": {
      "text/plain": [
       "Store                                 int64\n",
       "DayOfWeek                             int64\n",
       "Date                         datetime64[ns]\n",
       "Sales                                 int64\n",
       "Customers                             int64\n",
       "Open                                  int64\n",
       "Promo                                 int64\n",
       "StateHoliday                         object\n",
       "SchoolHoliday                         int64\n",
       "StoreType                            object\n",
       "Assortment                           object\n",
       "CompetitionDistance                 float64\n",
       "CompetitionOpenSinceMonth           float64\n",
       "CompetitionOpenSinceYear            float64\n",
       "Promo2                                int64\n",
       "Promo2SinceWeek                     float64\n",
       "Promo2SinceYear                     float64\n",
       "PromoInterval                        object\n",
       "dtype: object"
      ]
     },
     "execution_count": 26,
     "metadata": {},
     "output_type": "execute_result"
    }
   ],
   "source": [
    "df1_copy.Date = pd.to_datetime(df1_copy.Date)\n",
    "df1_copy.dtypes"
   ]
  },
  {
   "cell_type": "markdown",
   "id": "4b15064d",
   "metadata": {},
   "source": [
    "## 1.3. Check NA\n",
    "\n",
    "\n"
   ]
  },
  {
   "cell_type": "code",
   "execution_count": 34,
   "metadata": {},
   "outputs": [
    {
     "data": {
      "text/plain": [
       "Store                             0\n",
       "DayOfWeek                         0\n",
       "Date                              0\n",
       "Sales                             0\n",
       "Customers                         0\n",
       "Open                              0\n",
       "Promo                             0\n",
       "StateHoliday                      0\n",
       "SchoolHoliday                     0\n",
       "StoreType                         0\n",
       "Assortment                        0\n",
       "CompetitionDistance            2642\n",
       "CompetitionOpenSinceMonth    323348\n",
       "CompetitionOpenSinceYear     323348\n",
       "Promo2                            0\n",
       "Promo2SinceWeek              508031\n",
       "Promo2SinceYear              508031\n",
       "PromoInterval                508031\n",
       "dtype: int64"
      ]
     },
     "execution_count": 34,
     "metadata": {},
     "output_type": "execute_result"
    }
   ],
   "source": [
    "df1_copy.isna().sum()"
   ]
  },
  {
   "cell_type": "markdown",
   "metadata": {},
   "source": [
    "### Existem 3 maneira de tratar NA\n",
    "\n",
    "#### - Excluir. Mas perdemos dados e isso pode nos projudicar. Rapido e facil mas estamos jogando dados fora\n",
    "----\n",
    "\n",
    "#### - Usar algoritimos de ml onde nós substituimos as colunas vazias pelo proprio comportamento da coluna, como média, mediana ou o algortimo estima qual numero estaria ali. \n",
    "----\n",
    "\n",
    "#### - E a 3 forma, é entender o porque aquele dado esta faltando. \n",
    "\n"
   ]
  },
  {
   "cell_type": "markdown",
   "id": "59d2c316",
   "metadata": {},
   "source": [
    "## 1.4. Fillout NA\n",
    "\n"
   ]
  },
  {
   "cell_type": "markdown",
   "metadata": {},
   "source": [
    "- CompetitionDistance            \n",
    "- CompetitionOpenSinceMonth    \n",
    "- CompetitionOpenSinceYear     \n",
    "\n",
    "- Promo2SinceWeek              \n",
    "- Promo2SinceYear              \n",
    "- PromoInterval                "
   ]
  },
  {
   "cell_type": "code",
   "execution_count": null,
   "metadata": {},
   "outputs": [],
   "source": []
  },
  {
   "cell_type": "markdown",
   "id": "2cedc5e6",
   "metadata": {},
   "source": [
    "## 1.4. DESCRIÇÃO DOS DADOS\n",
    "\n"
   ]
  },
  {
   "cell_type": "markdown",
   "id": "c82231da",
   "metadata": {},
   "source": [
    "## 1.6. DESCRIÇÃO DOS DADOS\n",
    "\n"
   ]
  },
  {
   "cell_type": "markdown",
   "id": "b1c3b173",
   "metadata": {},
   "source": [
    "## 1.7. DESCRIÇÃO DOS DADOS\n",
    "\n"
   ]
  },
  {
   "cell_type": "markdown",
   "id": "15059489",
   "metadata": {},
   "source": [
    "## 1.8. DESCRIÇÃO DOS DADOS\n",
    "\n"
   ]
  },
  {
   "cell_type": "markdown",
   "id": "361995b9",
   "metadata": {},
   "source": []
  },
  {
   "cell_type": "code",
   "execution_count": null,
   "id": "cffb77d6",
   "metadata": {},
   "outputs": [],
   "source": []
  },
  {
   "cell_type": "code",
   "execution_count": null,
   "id": "1bbdec21",
   "metadata": {},
   "outputs": [],
   "source": []
  },
  {
   "cell_type": "code",
   "execution_count": null,
   "id": "7db60a40",
   "metadata": {},
   "outputs": [],
   "source": []
  },
  {
   "cell_type": "code",
   "execution_count": null,
   "id": "e7f64e49",
   "metadata": {},
   "outputs": [],
   "source": []
  },
  {
   "cell_type": "code",
   "execution_count": null,
   "id": "d9b13c92",
   "metadata": {},
   "outputs": [],
   "source": []
  },
  {
   "cell_type": "code",
   "execution_count": null,
   "id": "31f4daa2",
   "metadata": {},
   "outputs": [],
   "source": []
  },
  {
   "cell_type": "code",
   "execution_count": null,
   "id": "35ee7fab",
   "metadata": {},
   "outputs": [],
   "source": []
  },
  {
   "cell_type": "code",
   "execution_count": null,
   "id": "91316790",
   "metadata": {},
   "outputs": [],
   "source": []
  }
 ],
 "metadata": {
  "interpreter": {
   "hash": "ad430e2b2b32529c5789df2277789db8a45002e5490e58c7200dbfbe0aa70fcd"
  },
  "kernelspec": {
   "display_name": "Python 3.8.12 64-bit ('ds_prod': conda)",
   "name": "python3"
  },
  "language_info": {
   "codemirror_mode": {
    "name": "ipython",
    "version": 3
   },
   "file_extension": ".py",
   "mimetype": "text/x-python",
   "name": "python",
   "nbconvert_exporter": "python",
   "pygments_lexer": "ipython3",
   "version": "3.8.12"
  }
 },
 "nbformat": 4,
 "nbformat_minor": 5
}
