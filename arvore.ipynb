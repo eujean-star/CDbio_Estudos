{
  "nbformat": 4,
  "nbformat_minor": 0,
  "metadata": {
    "colab": {
      "name": "arvore.ipynb",
      "provenance": [],
      "authorship_tag": "ABX9TyMVSB3qcIP5sSYUcWRIyScU",
      "include_colab_link": true
    },
    "kernelspec": {
      "name": "python3",
      "display_name": "Python 3"
    },
    "language_info": {
      "name": "python"
    }
  },
  "cells": [
    {
      "cell_type": "markdown",
      "metadata": {
        "id": "view-in-github",
        "colab_type": "text"
      },
      "source": [
        "<a href=\"https://colab.research.google.com/github/eujean-star/portfolio_estudos/blob/main/arvore.ipynb\" target=\"_parent\"><img src=\"https://colab.research.google.com/assets/colab-badge.svg\" alt=\"Open In Colab\"/></a>"
      ]
    },
    {
      "cell_type": "markdown",
      "metadata": {
        "id": "qGKBB64PVdSI"
      },
      "source": [
        "**CDBio - Soluções em ciência de dados e bioinformatica**\n",
        "======="
      ]
    },
    {
      "cell_type": "code",
      "metadata": {
        "id": "eV_o74e4F9sA"
      },
      "source": [
        "import pandas as pd"
      ],
      "execution_count": 1,
      "outputs": []
    },
    {
      "cell_type": "code",
      "metadata": {
        "colab": {
          "base_uri": "https://localhost:8080/"
        },
        "id": "8E6IbIGuKPZv",
        "outputId": "3d003934-c21a-493f-cd76-27eb78db62e6"
      },
      "source": [
        "!wget https://www.dropbox.com/s/skvenpz7p4szmoh/zap_imoveis.csv\n"
      ],
      "execution_count": 2,
      "outputs": [
        {
          "output_type": "stream",
          "name": "stdout",
          "text": [
            "--2021-09-20 15:39:01--  https://www.dropbox.com/s/skvenpz7p4szmoh/zap_imoveis.csv\n",
            "Resolving www.dropbox.com (www.dropbox.com)... 162.125.4.18, 2620:100:601c:18::a27d:612\n",
            "Connecting to www.dropbox.com (www.dropbox.com)|162.125.4.18|:443... connected.\n",
            "HTTP request sent, awaiting response... 301 Moved Permanently\n",
            "Location: /s/raw/skvenpz7p4szmoh/zap_imoveis.csv [following]\n",
            "--2021-09-20 15:39:01--  https://www.dropbox.com/s/raw/skvenpz7p4szmoh/zap_imoveis.csv\n",
            "Reusing existing connection to www.dropbox.com:443.\n",
            "HTTP request sent, awaiting response... 302 Found\n",
            "Location: https://ucf7985888c85309eca1a61b0948.dl.dropboxusercontent.com/cd/0/inline/BWhFuwVSAHXS7-KIcsoEhisjzehvpbg38ZZXe1LnmerVlRMd5DLwC1YMy_SSu1K9kX0s6AlciZ-Mz9nWZ-YqDArKvJfnWEI5rESaU3ZFL-6OP4o01GUktgojymDlbfCCBMoFFWkAbK_9aN3ha6KQipRe/file# [following]\n",
            "--2021-09-20 15:39:01--  https://ucf7985888c85309eca1a61b0948.dl.dropboxusercontent.com/cd/0/inline/BWhFuwVSAHXS7-KIcsoEhisjzehvpbg38ZZXe1LnmerVlRMd5DLwC1YMy_SSu1K9kX0s6AlciZ-Mz9nWZ-YqDArKvJfnWEI5rESaU3ZFL-6OP4o01GUktgojymDlbfCCBMoFFWkAbK_9aN3ha6KQipRe/file\n",
            "Resolving ucf7985888c85309eca1a61b0948.dl.dropboxusercontent.com (ucf7985888c85309eca1a61b0948.dl.dropboxusercontent.com)... 162.125.6.15, 2620:100:601c:15::a27d:60f\n",
            "Connecting to ucf7985888c85309eca1a61b0948.dl.dropboxusercontent.com (ucf7985888c85309eca1a61b0948.dl.dropboxusercontent.com)|162.125.6.15|:443... connected.\n",
            "HTTP request sent, awaiting response... 200 OK\n",
            "Length: 904134 (883K) [text/plain]\n",
            "Saving to: ‘zap_imoveis.csv’\n",
            "\n",
            "zap_imoveis.csv     100%[===================>] 882.94K  --.-KB/s    in 0.007s  \n",
            "\n",
            "2021-09-20 15:39:01 (118 MB/s) - ‘zap_imoveis.csv’ saved [904134/904134]\n",
            "\n"
          ]
        }
      ]
    },
    {
      "cell_type": "code",
      "metadata": {
        "id": "YtSAJC9TKPXl"
      },
      "source": [
        "data_imoveis = pd.read_csv('zap_imoveis.csv')\n"
      ],
      "execution_count": 3,
      "outputs": []
    },
    {
      "cell_type": "code",
      "metadata": {
        "colab": {
          "base_uri": "https://localhost:8080/",
          "height": 629
        },
        "id": "L5EXqd2fLz9K",
        "outputId": "bfc8b0b1-5311-4ad5-bbeb-5ea3d6d8410b"
      },
      "source": [
        "data_imoveis"
      ],
      "execution_count": 4,
      "outputs": [
        {
          "output_type": "execute_result",
          "data": {
            "text/html": [
              "<div>\n",
              "<style scoped>\n",
              "    .dataframe tbody tr th:only-of-type {\n",
              "        vertical-align: middle;\n",
              "    }\n",
              "\n",
              "    .dataframe tbody tr th {\n",
              "        vertical-align: top;\n",
              "    }\n",
              "\n",
              "    .dataframe thead th {\n",
              "        text-align: right;\n",
              "    }\n",
              "</style>\n",
              "<table border=\"1\" class=\"dataframe\">\n",
              "  <thead>\n",
              "    <tr style=\"text-align: right;\">\n",
              "      <th></th>\n",
              "      <th>Unnamed: 0</th>\n",
              "      <th>condominio</th>\n",
              "      <th>anunciante</th>\n",
              "      <th>num_suites</th>\n",
              "      <th>num_vagas</th>\n",
              "      <th>num_quartos</th>\n",
              "      <th>area</th>\n",
              "      <th>rua</th>\n",
              "      <th>regiao</th>\n",
              "      <th>descricao</th>\n",
              "      <th>tipo_imovel</th>\n",
              "      <th>localidade</th>\n",
              "      <th>bairro</th>\n",
              "      <th>preco</th>\n",
              "    </tr>\n",
              "  </thead>\n",
              "  <tbody>\n",
              "    <tr>\n",
              "      <th>0</th>\n",
              "      <td>0</td>\n",
              "      <td>0.0</td>\n",
              "      <td>HELDER LOPES IMOVEIS</td>\n",
              "      <td>2.0</td>\n",
              "      <td>2.0</td>\n",
              "      <td>3.0</td>\n",
              "      <td>150.0</td>\n",
              "      <td>Rua Tomaz Soares Vieira</td>\n",
              "      <td>RS</td>\n",
              "      <td>Sobrado Moderno Bougainville\\r\\n\\r\\nÓtima opor...</td>\n",
              "      <td>Casa</td>\n",
              "      <td>Pelotas</td>\n",
              "      <td>Laranjal</td>\n",
              "      <td>570000</td>\n",
              "    </tr>\n",
              "    <tr>\n",
              "      <th>1</th>\n",
              "      <td>1</td>\n",
              "      <td>0.0</td>\n",
              "      <td>HELDER LOPES IMOVEIS</td>\n",
              "      <td>0.0</td>\n",
              "      <td>0.0</td>\n",
              "      <td>0.0</td>\n",
              "      <td>360.0</td>\n",
              "      <td>Rua Professora Vanda da Silva Chagas</td>\n",
              "      <td>RS</td>\n",
              "      <td>Terreno Colina do Sol \\r\\n\\r\\nÁREA TOTAL –  36...</td>\n",
              "      <td>Casa</td>\n",
              "      <td>Pelotas</td>\n",
              "      <td>Colina da Sol</td>\n",
              "      <td>200000</td>\n",
              "    </tr>\n",
              "    <tr>\n",
              "      <th>2</th>\n",
              "      <td>2</td>\n",
              "      <td>18.0</td>\n",
              "      <td>Fernanda</td>\n",
              "      <td>0.0</td>\n",
              "      <td>1.0</td>\n",
              "      <td>2.0</td>\n",
              "      <td>45.0</td>\n",
              "      <td>Rua Maestro Mendanha</td>\n",
              "      <td>RS</td>\n",
              "      <td>Apartamento central, condomínio Reservas D´our...</td>\n",
              "      <td>Casa</td>\n",
              "      <td>Pelotas</td>\n",
              "      <td>Centro</td>\n",
              "      <td>170000</td>\n",
              "    </tr>\n",
              "    <tr>\n",
              "      <th>3</th>\n",
              "      <td>3</td>\n",
              "      <td>230.0</td>\n",
              "      <td>Alex Lara</td>\n",
              "      <td>0.0</td>\n",
              "      <td>1.0</td>\n",
              "      <td>2.0</td>\n",
              "      <td>55.0</td>\n",
              "      <td>Avenida Presidente Juscelino Kubitschek de Oli...</td>\n",
              "      <td>RS</td>\n",
              "      <td>Apartamento em condomínio fechado\\r\\n2 dormitó...</td>\n",
              "      <td>Casa</td>\n",
              "      <td>Pelotas</td>\n",
              "      <td>Centro</td>\n",
              "      <td>250000</td>\n",
              "    </tr>\n",
              "    <tr>\n",
              "      <th>4</th>\n",
              "      <td>4</td>\n",
              "      <td>680.0</td>\n",
              "      <td>Maria</td>\n",
              "      <td>1.0</td>\n",
              "      <td>1.0</td>\n",
              "      <td>3.0</td>\n",
              "      <td>147.0</td>\n",
              "      <td>Rua Almirante Barroso</td>\n",
              "      <td>RS</td>\n",
              "      <td>Excelente apartamento com 3 dormitórios sendo ...</td>\n",
              "      <td>Casa</td>\n",
              "      <td>Pelotas</td>\n",
              "      <td>Centro</td>\n",
              "      <td>600000</td>\n",
              "    </tr>\n",
              "    <tr>\n",
              "      <th>...</th>\n",
              "      <td>...</td>\n",
              "      <td>...</td>\n",
              "      <td>...</td>\n",
              "      <td>...</td>\n",
              "      <td>...</td>\n",
              "      <td>...</td>\n",
              "      <td>...</td>\n",
              "      <td>...</td>\n",
              "      <td>...</td>\n",
              "      <td>...</td>\n",
              "      <td>...</td>\n",
              "      <td>...</td>\n",
              "      <td>...</td>\n",
              "      <td>...</td>\n",
              "    </tr>\n",
              "    <tr>\n",
              "      <th>3939</th>\n",
              "      <td>3939</td>\n",
              "      <td>0.0</td>\n",
              "      <td>KROLOW NEGÓCIOS IMOBILIÁRIOS</td>\n",
              "      <td>0.0</td>\n",
              "      <td>1.0</td>\n",
              "      <td>3.0</td>\n",
              "      <td>76.0</td>\n",
              "      <td>Um Lot. Jacarandá</td>\n",
              "      <td>RS</td>\n",
              "      <td>Chalé de madeiras Grapea e Ipê (duplado), 03 d...</td>\n",
              "      <td>Casa</td>\n",
              "      <td>Pelotas</td>\n",
              "      <td>Fragata</td>\n",
              "      <td>192000</td>\n",
              "    </tr>\n",
              "    <tr>\n",
              "      <th>3940</th>\n",
              "      <td>3940</td>\n",
              "      <td>0.0</td>\n",
              "      <td>VILLAR IMÓVEIS</td>\n",
              "      <td>1.0</td>\n",
              "      <td>2.0</td>\n",
              "      <td>3.0</td>\n",
              "      <td>68.0</td>\n",
              "      <td>NaN</td>\n",
              "      <td>RS</td>\n",
              "      <td>&amp;nbsp;Serenna Residence &amp; Mall Pelotas\\n\\nCom ...</td>\n",
              "      <td>Casa de Condomínio</td>\n",
              "      <td>Pelotas</td>\n",
              "      <td>Areal</td>\n",
              "      <td>265000</td>\n",
              "    </tr>\n",
              "    <tr>\n",
              "      <th>3941</th>\n",
              "      <td>3941</td>\n",
              "      <td>0.0</td>\n",
              "      <td>KROLOW NEGÓCIOS IMOBILIÁRIOS</td>\n",
              "      <td>0.0</td>\n",
              "      <td>2.0</td>\n",
              "      <td>3.0</td>\n",
              "      <td>80000.0</td>\n",
              "      <td>Colonia Santo Antonio - 7 Distrito de Pelotao</td>\n",
              "      <td>RS</td>\n",
              "      <td>Sítio agroecológico com 8 hectares, 17 nascent...</td>\n",
              "      <td>Sítio</td>\n",
              "      <td>Pelotas</td>\n",
              "      <td>Areal</td>\n",
              "      <td>500000</td>\n",
              "    </tr>\n",
              "    <tr>\n",
              "      <th>3942</th>\n",
              "      <td>3942</td>\n",
              "      <td>850.0</td>\n",
              "      <td>VILLAR IMÓVEIS</td>\n",
              "      <td>1.0</td>\n",
              "      <td>2.0</td>\n",
              "      <td>3.0</td>\n",
              "      <td>150.0</td>\n",
              "      <td>NaN</td>\n",
              "      <td>RS</td>\n",
              "      <td>Amplo apartamento em zona nobre, perto da dom ...</td>\n",
              "      <td>Apartamento</td>\n",
              "      <td>Pelotas</td>\n",
              "      <td>Centro</td>\n",
              "      <td>690000</td>\n",
              "    </tr>\n",
              "    <tr>\n",
              "      <th>3943</th>\n",
              "      <td>3943</td>\n",
              "      <td>0.0</td>\n",
              "      <td>KROLOW NEGÓCIOS IMOBILIÁRIOS</td>\n",
              "      <td>0.0</td>\n",
              "      <td>0.0</td>\n",
              "      <td>0.0</td>\n",
              "      <td>3080.0</td>\n",
              "      <td>Rua Capitão Nelson Pereira</td>\n",
              "      <td>RS</td>\n",
              "      <td>Ótima área próxima ao condomínio Marina Ilha V...</td>\n",
              "      <td>Terreno Padrão</td>\n",
              "      <td>Pelotas</td>\n",
              "      <td>Areal</td>\n",
              "      <td>890000</td>\n",
              "    </tr>\n",
              "  </tbody>\n",
              "</table>\n",
              "<p>3944 rows × 14 columns</p>\n",
              "</div>"
            ],
            "text/plain": [
              "      Unnamed: 0  condominio  ...         bairro   preco\n",
              "0              0         0.0  ...       Laranjal  570000\n",
              "1              1         0.0  ...  Colina da Sol  200000\n",
              "2              2        18.0  ...         Centro  170000\n",
              "3              3       230.0  ...         Centro  250000\n",
              "4              4       680.0  ...         Centro  600000\n",
              "...          ...         ...  ...            ...     ...\n",
              "3939        3939         0.0  ...        Fragata  192000\n",
              "3940        3940         0.0  ...          Areal  265000\n",
              "3941        3941         0.0  ...          Areal  500000\n",
              "3942        3942       850.0  ...         Centro  690000\n",
              "3943        3943         0.0  ...          Areal  890000\n",
              "\n",
              "[3944 rows x 14 columns]"
            ]
          },
          "metadata": {},
          "execution_count": 4
        }
      ]
    },
    {
      "cell_type": "code",
      "metadata": {
        "id": "fdNBAn9fL4iE"
      },
      "source": [
        "#Particularmente prefiro filtrar dados utilizando o método query, o código se torna mais limpo.\n",
        "dados_filtrados = data_imoveis.query(\"tipo_imovel == 'Casa' | tipo_imovel == 'Apartamento'\")\n",
        " \n",
        " \n",
        " #Porém podemos utilizar outra maneira de fazer a mesma filtragem: que notóriamente deixa o código ligeiramente mais longo e um pouco mais confuso.\n",
        "\n",
        "dados_filtrados = data_imoveis[(data_imoveis['tipo_imovel'] == 'Casa') | (data_imoveis['tipo_imovel'] == 'Apartamento')]\n",
        "\n",
        " #Mas... o resultado é o mesmo!"
      ],
      "execution_count": 5,
      "outputs": []
    },
    {
      "cell_type": "code",
      "metadata": {
        "id": "FtUIXMhHMZxV"
      },
      "source": [
        "#Aqui, pra evitar a criação de mais uma váriavel, lembrando que a cada variável criada ocupa espaço em disco, simplesmente posso atualizar a variável\n",
        "#que já existe, eu posso fazer infinitos filtros em cima da mesma. \n",
        "\n",
        "\n",
        "dados_filtrados = dados_filtrados[['num_suites', \n",
        "                                   'num_vagas', \n",
        "                                   'num_quartos', \n",
        "                                   'area', \n",
        "                                   'bairro', \n",
        "                                   'preco', \n",
        "                                   'tipo_imovel']].reset_index(drop=True)\n",
        "#pra fazer essa filtragem de modo mais simples e rapido, utiliza-se \"reset_index(drop=True).\n",
        "\n"
      ],
      "execution_count": 6,
      "outputs": []
    },
    {
      "cell_type": "code",
      "metadata": {
        "colab": {
          "base_uri": "https://localhost:8080/"
        },
        "id": "uQPMd9MEKPVX",
        "outputId": "d4ef793a-8865-4d5d-8b2f-4061b65a9091"
      },
      "source": [
        "#Aqui, pra saber quanto anunciantes UNICOS, existem nos meus dados e pra isso eu usei um loopzinho. \n",
        "c = 0\n",
        "for anunciante in data_imoveis['anunciante'].unique():\n",
        "  c+=1\n",
        "print(f'Numero de anunciantes {c}')\n",
        " \n",
        " "
      ],
      "execution_count": 7,
      "outputs": [
        {
          "output_type": "stream",
          "name": "stdout",
          "text": [
            "Numero de anunciantes 47\n"
          ]
        }
      ]
    },
    {
      "cell_type": "markdown",
      "metadata": {
        "id": "_0X4qd7TPecG"
      },
      "source": [
        "**Como a idéia aqui é utilizar aprendizado de máquina, os nossos dados precisarão passar por um pré-processamento**\n",
        "\n",
        "\n",
        "- Geralmente quando estamos trabalhando com dados reais, eles apresentam determinado nível de desordem, outliers, variáveis, númericas que possuem dados categóricos e coisas do tipo. Antes de treinar x algorítmo, precisamos arrumar esses detalhes. \n",
        "\n",
        "- No nosso caso, vou utilizar árvores de decisão e por natureza, o algorítmo de árvores do SKlearn não utiliza dados categóricos diretamente, para fazer suas predições, então precisaremos transformar uma coluna do dataset e para isso utilizaremos **OneHotEnconder**"
      ]
    },
    {
      "cell_type": "code",
      "metadata": {
        "colab": {
          "base_uri": "https://localhost:8080/"
        },
        "id": "a7ub7AdqKPTI",
        "outputId": "f97df27e-bbbd-48e8-bb1d-f97ef1e5db26"
      },
      "source": [
        "#vamo vê quantos bairros existem nos nossos dados e quais são eles.\n",
        "\n",
        "dados_filtrados['bairro'].unique(), print(len(dados_filtrados['bairro'].unique()))\n"
      ],
      "execution_count": 8,
      "outputs": [
        {
          "output_type": "stream",
          "name": "stdout",
          "text": [
            "41\n"
          ]
        },
        {
          "output_type": "execute_result",
          "data": {
            "text/plain": [
              "(array(['Laranjal', 'Colina da Sol', 'Centro', 'Porto', 'Zona Norte',\n",
              "        'Três Vendas', 'Areal', 'Barro Duro', 'Umuharama', 'Fragata',\n",
              "        'Laranjal Val Verde', 'Navegantes', 'Obelisco', 'Arco Iris',\n",
              "        'Las Acácias', 'Cohab Tablada', 'São Gonçalo', 'Cohabpel',\n",
              "        'Bom Jesus', 'Vila Jardim Europa', 'Recanto de Portugal',\n",
              "        'Guabiroba', 'Simões Lopes', 'Cohab Lindóia',\n",
              "        'Jardim das Tradições', 'Lindóia', 'Santa Terezinha', 'Cohab II',\n",
              "        'Vila Princesa', 'Fátima', 'Baronesa', 'Indeterminado',\n",
              "        'Pontal da Barra', 'Treptow', 'Vila Mariana', 'Colina Verde',\n",
              "        'Vila Assunção', 'Sítio Floresta', 'Cruzeiro', 'Jardim América',\n",
              "        'Zona Rural'], dtype=object), None)"
            ]
          },
          "metadata": {},
          "execution_count": 8
        }
      ]
    },
    {
      "cell_type": "markdown",
      "metadata": {
        "id": "CqgGdOAr26fG"
      },
      "source": [
        "Aqui é onde a gente utiliza o OneHotEncoder e pra entender como ele funciona\n",
        "\n",
        "Supondo que tivessemos apenas 3 bairros: Centro, Fragata, Laranjal.\n",
        "pra representar esses bairros a partir da ideia de OneHotEncoder:\n",
        "\n",
        "- Centro = [0, 0, 1]\n",
        "- Fragata = [0, 1, 0]\n",
        "- Laranjal = [1, 0, 0]\n",
        "\n",
        "A representação é feita assim. \n"
      ]
    },
    {
      "cell_type": "code",
      "metadata": {
        "id": "cb_E01eFKPQ0"
      },
      "source": [
        "from sklearn.preprocessing import LabelBinarizer\n",
        "\n",
        "cod = LabelBinarizer()\n",
        "cod.fit(dados_filtrados['bairro'])\n",
        "\n",
        "dados_transformados = cod.transform(dados_filtrados['bairro'])\n",
        "\n",
        "onehot = pd.DataFrame(dados_transformados)\n",
        "onehot.columns = cod.classes_\n",
        "\n",
        "\n",
        "dados_preprocessed = pd.concat([dados_filtrados, onehot], axis=1).drop(['bairro'], axis=1)"
      ],
      "execution_count": 47,
      "outputs": []
    },
    {
      "cell_type": "code",
      "metadata": {
        "id": "BVteFx0GKPKp"
      },
      "source": [
        "X = dados_preprocessed.drop(['tipo_imovel'], axis=1)\n",
        "y = dados_preprocessed['tipo_imovel']"
      ],
      "execution_count": 48,
      "outputs": []
    },
    {
      "cell_type": "code",
      "metadata": {
        "id": "agZ98a0VeGqX"
      },
      "source": [
        "from sklearn.model_selection import train_test_split\n",
        "\n",
        "X_train, X_test, y_train, y_test = train_test_split(X, y, test_size = 0.2)\n"
      ],
      "execution_count": 49,
      "outputs": []
    },
    {
      "cell_type": "code",
      "metadata": {
        "id": "uHl8i5bhgVCO"
      },
      "source": [
        "from sklearn.tree import DecisionTreeClassifier\n",
        "\n",
        "modelo = DecisionTreeClassifier(random_state=0, criterion='entropy')\n",
        "\n",
        "trained_model = modelo.fit(X_train, y_train)\n"
      ],
      "execution_count": 50,
      "outputs": []
    },
    {
      "cell_type": "code",
      "metadata": {
        "id": "mgkRhSBkkcbz"
      },
      "source": [
        "from sklearn.metrics import accuracy_score\n",
        "from sklearn.metrics import classification_report\n",
        "\n",
        "y_pred = trained_model.predict(X_test)\n",
        "acuracia = accuracy_score(y_test, y_pred)\n",
        "\n",
        "\n",
        "\n"
      ],
      "execution_count": 51,
      "outputs": []
    },
    {
      "cell_type": "code",
      "metadata": {
        "colab": {
          "base_uri": "https://localhost:8080/"
        },
        "id": "TOmr0sEHkcY9",
        "outputId": "2b193bb9-b6b3-408e-b0c0-333435728020"
      },
      "source": [
        "print(acuracia)"
      ],
      "execution_count": 52,
      "outputs": [
        {
          "output_type": "stream",
          "name": "stdout",
          "text": [
            "0.8096\n"
          ]
        }
      ]
    },
    {
      "cell_type": "code",
      "metadata": {
        "colab": {
          "base_uri": "https://localhost:8080/"
        },
        "id": "BWiwRrlikcN5",
        "outputId": "21e5ee85-5ac9-4c2b-924c-bc580ea1d13c"
      },
      "source": [
        "class_report = classification_report(y_test, y_pred)\n",
        "print(class_report)"
      ],
      "execution_count": 15,
      "outputs": [
        {
          "output_type": "stream",
          "name": "stdout",
          "text": [
            "              precision    recall  f1-score   support\n",
            "\n",
            " Apartamento       0.83      0.85      0.84       319\n",
            "        Casa       0.84      0.82      0.83       306\n",
            "\n",
            "    accuracy                           0.84       625\n",
            "   macro avg       0.84      0.83      0.84       625\n",
            "weighted avg       0.84      0.84      0.84       625\n",
            "\n"
          ]
        }
      ]
    },
    {
      "cell_type": "code",
      "metadata": {
        "colab": {
          "base_uri": "https://localhost:8080/",
          "height": 296
        },
        "id": "Xq2t34K0IhLk",
        "outputId": "a4343ab7-71d1-4685-a307-31bd815c620e"
      },
      "source": [
        "from sklearn.metrics import plot_confusion_matrix\n",
        "\n",
        "plot_confusion_matrix(trained_model,X_test, y_test)\n"
      ],
      "execution_count": 16,
      "outputs": [
        {
          "output_type": "execute_result",
          "data": {
            "text/plain": [
              "<sklearn.metrics._plot.confusion_matrix.ConfusionMatrixDisplay at 0x7fae275c43d0>"
            ]
          },
          "metadata": {},
          "execution_count": 16
        },
        {
          "output_type": "display_data",
          "data": {
            "image/png": "[encoded data removed]",
            "text/plain": [
              "<Figure size 432x288 with 2 Axes>"
            ]
          },
          "metadata": {
            "needs_background": "light"
          }
        }
      ]
    },
    {
      "cell_type": "code",
      "metadata": {
        "colab": {
          "base_uri": "https://localhost:8080/"
        },
        "id": "mFvOEFO3-vwo",
        "outputId": "b66b158d-cf89-4985-efdf-f19f22e8ce03"
      },
      "source": [
        "len(dados_preprocessed['tipo_imovel']), len(dados_preprocessed)"
      ],
      "execution_count": 43,
      "outputs": [
        {
          "output_type": "execute_result",
          "data": {
            "text/plain": [
              "(3125, 3125)"
            ]
          },
          "metadata": {},
          "execution_count": 43
        }
      ]
    },
    {
      "cell_type": "markdown",
      "metadata": {
        "id": "ezravXUsOkA-"
      },
      "source": [
        "Com base na matrix, podemos observar os numeros preditos para cada classe. \n",
        "É de suma importancia obsevar a matrix quando estamos trabalhando com algoritmos de classificação, pois isso nos mostra onde o modelo esta acertando ou não e com base nessa especie de relatório podemos ajustar o modelo a fim de que ele melhore sua performance. "
      ]
    },
    {
      "cell_type": "markdown",
      "metadata": {
        "id": "AEktWKYpF9kW"
      },
      "source": [
        "# *k-fold*"
      ]
    },
    {
      "cell_type": "code",
      "metadata": {
        "colab": {
          "base_uri": "https://localhost:8080/"
        },
        "id": "LytRYEkD5zcd",
        "outputId": "164aaec5-d5ff-450f-ae8c-789220e4b992"
      },
      "source": [
        "from sklearn.model_selection import cross_val_score\n",
        "\n",
        "#O paâmetro cv indica quantas partições iremos criar. \n",
        "\n",
        "score = cross_val_score(modelo, X, y, cv=10)\n",
        "\n",
        "print(f'score croos_validation {score.mean()}')\n",
        "\n",
        "\n",
        "  "
      ],
      "execution_count": 54,
      "outputs": [
        {
          "output_type": "stream",
          "name": "stdout",
          "text": [
            "score croos_validation 0.8144087408863767\n"
          ]
        }
      ]
    },
    {
      "cell_type": "code",
      "metadata": {
        "colab": {
          "base_uri": "https://localhost:8080/"
        },
        "id": "xTAyJBtF5zXE",
        "outputId": "377471e1-98b5-4803-82de-d12bade59b4c"
      },
      "source": [
        "X = dados_preprocessed.drop('tipo_imovel', axis=1)\n",
        "y = dados_preprocessed['tipo_imovel']\n",
        "\n",
        "modelo_final = modelo.fit(X,y)\n",
        "\n",
        "# E podemos agora colocar em produção e usá-lo\n",
        "bairro = list(cod.transform(['Fragata'])[0])\n",
        "predicao = modelo_final.predict([[2, 0, 1, 120] + bairro + [250000]])\n",
        "print(predicao)"
      ],
      "execution_count": 55,
      "outputs": [
        {
          "output_type": "stream",
          "name": "stdout",
          "text": [
            "['Apartamento']\n"
          ]
        }
      ]
    }
  ]
}